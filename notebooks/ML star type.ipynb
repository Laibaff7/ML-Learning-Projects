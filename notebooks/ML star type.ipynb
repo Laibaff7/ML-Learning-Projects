{
 "cells": [
  {
   "cell_type": "code",
   "execution_count": 219,
   "id": "d212ca73",
   "metadata": {},
   "outputs": [],
   "source": [
    "import pandas as pd\n",
    "import seaborn as sns\n",
    "import numpy as np"
   ]
  },
  {
   "cell_type": "code",
   "execution_count": null,
   "id": "bb832f82",
   "metadata": {},
   "outputs": [
    {
     "data": {
      "text/html": [
       "<div>\n",
       "<style scoped>\n",
       "    .dataframe tbody tr th:only-of-type {\n",
       "        vertical-align: middle;\n",
       "    }\n",
       "\n",
       "    .dataframe tbody tr th {\n",
       "        vertical-align: top;\n",
       "    }\n",
       "\n",
       "    .dataframe thead th {\n",
       "        text-align: right;\n",
       "    }\n",
       "</style>\n",
       "<table border=\"1\" class=\"dataframe\">\n",
       "  <thead>\n",
       "    <tr style=\"text-align: right;\">\n",
       "      <th></th>\n",
       "      <th>Temperature (K)</th>\n",
       "      <th>Luminosity(L/Lo)</th>\n",
       "      <th>Radius(R/Ro)</th>\n",
       "      <th>Absolute magnitude(Mv)</th>\n",
       "      <th>Star type</th>\n",
       "      <th>Star color</th>\n",
       "      <th>Spectral Class</th>\n",
       "    </tr>\n",
       "  </thead>\n",
       "  <tbody>\n",
       "    <tr>\n",
       "      <th>0</th>\n",
       "      <td>3068</td>\n",
       "      <td>0.002400</td>\n",
       "      <td>0.1700</td>\n",
       "      <td>16.12</td>\n",
       "      <td>0</td>\n",
       "      <td>Red</td>\n",
       "      <td>M</td>\n",
       "    </tr>\n",
       "    <tr>\n",
       "      <th>1</th>\n",
       "      <td>3042</td>\n",
       "      <td>0.000500</td>\n",
       "      <td>0.1542</td>\n",
       "      <td>16.60</td>\n",
       "      <td>0</td>\n",
       "      <td>Red</td>\n",
       "      <td>M</td>\n",
       "    </tr>\n",
       "    <tr>\n",
       "      <th>2</th>\n",
       "      <td>2600</td>\n",
       "      <td>0.000300</td>\n",
       "      <td>0.1020</td>\n",
       "      <td>18.70</td>\n",
       "      <td>0</td>\n",
       "      <td>Red</td>\n",
       "      <td>M</td>\n",
       "    </tr>\n",
       "    <tr>\n",
       "      <th>3</th>\n",
       "      <td>2800</td>\n",
       "      <td>0.000200</td>\n",
       "      <td>0.1600</td>\n",
       "      <td>16.65</td>\n",
       "      <td>0</td>\n",
       "      <td>Red</td>\n",
       "      <td>M</td>\n",
       "    </tr>\n",
       "    <tr>\n",
       "      <th>4</th>\n",
       "      <td>1939</td>\n",
       "      <td>0.000138</td>\n",
       "      <td>0.1030</td>\n",
       "      <td>20.06</td>\n",
       "      <td>0</td>\n",
       "      <td>Red</td>\n",
       "      <td>M</td>\n",
       "    </tr>\n",
       "  </tbody>\n",
       "</table>\n",
       "</div>"
      ],
      "text/plain": [
       "   Temperature (K)  Luminosity(L/Lo)  Radius(R/Ro)  Absolute magnitude(Mv)  \\\n",
       "0             3068          0.002400        0.1700                   16.12   \n",
       "1             3042          0.000500        0.1542                   16.60   \n",
       "2             2600          0.000300        0.1020                   18.70   \n",
       "3             2800          0.000200        0.1600                   16.65   \n",
       "4             1939          0.000138        0.1030                   20.06   \n",
       "\n",
       "   Star type Star color Spectral Class  \n",
       "0          0        Red              M  \n",
       "1          0        Red              M  \n",
       "2          0        Red              M  \n",
       "3          0        Red              M  \n",
       "4          0        Red              M  "
      ]
     },
     "execution_count": 220,
     "metadata": {},
     "output_type": "execute_result"
    }
   ],
   "source": [
    "df = pd.read_csv(\"/data/6 class csv.csv\")\n",
    "df.head()"
   ]
  },
  {
   "cell_type": "code",
   "execution_count": 221,
   "id": "bcd1249a",
   "metadata": {},
   "outputs": [],
   "source": [
    "#We change the names of the columns to make them easier to handle\n",
    "original_names=df.columns.values\n",
    "new_names=['temperature','luminosity','radius','absolute_mag','type','color','spec_class']\n",
    "mapper=dict(zip(original_names, new_names))\n",
    "df=df.rename(mapper, axis=1)\n",
    "df['color']=df['color'].astype('category')\n",
    "df['type']=pd.Categorical.from_codes(df['type'], \n",
    "                                    categories=['Red Dwarf','Brown Dwarf', 'White Dwarf', 'Main Sequence' , 'Super Giant', 'Hyper Giant'])\n",
    "df['spec_class']=df['spec_class'].astype('category')\n",
    "dict(enumerate(df['spec_class'].cat.categories))\n",
    "df['spec_class']=df['spec_class'].cat.reorder_categories(['M','K','G','F','A','B','O'], ordered=True)"
   ]
  },
  {
   "cell_type": "code",
   "execution_count": 222,
   "id": "c29bc9da",
   "metadata": {},
   "outputs": [
    {
     "data": {
      "text/plain": [
       "CategoricalDtype(categories=['M', 'K', 'G', 'F', 'A', 'B', 'O'], ordered=True, categories_dtype=object)"
      ]
     },
     "execution_count": 222,
     "metadata": {},
     "output_type": "execute_result"
    }
   ],
   "source": [
    "df['spec_class'].dtype"
   ]
  },
  {
   "cell_type": "code",
   "execution_count": 223,
   "id": "398d993b",
   "metadata": {},
   "outputs": [
    {
     "name": "stderr",
     "output_type": "stream",
     "text": [
      "C:\\Users\\laiba\\AppData\\Local\\Temp\\ipykernel_7164\\3327010673.py:32: FutureWarning: The behavior of Series.replace (and DataFrame.replace) with CategoricalDtype is deprecated. In a future version, replace will only be used for cases that preserve the categories. To change the categories, use ser.cat.rename_categories instead.\n",
      "  df['color'] = df['color'].replace(color_map)\n"
     ]
    }
   ],
   "source": [
    "color_map = {\n",
    "    'Blue white': 'Blue-White',\n",
    "    'blue-white': 'Blue-White',\n",
    "    'Blue white ': 'Blue-White',\n",
    "    'Blue-White': 'Blue-White',\n",
    "    'Blue-white' : 'Blue-White',\n",
    "    'Blue White': 'Blue-White',\n",
    "    \n",
    "    'White': 'White',\n",
    "    'white': 'White',\n",
    "    'Whitish': 'White',\n",
    "    \n",
    "    'Yellowish White': 'Yellow-White',\n",
    "    'yellow-white': 'Yellow-White',\n",
    "    'White-Yellow': 'Yellow-White',\n",
    "    \n",
    "    'Blue': 'Blue',\n",
    "    'Blue ': 'Blue',\n",
    "    \n",
    "    'Red': 'Red',\n",
    "    \n",
    "    'Orange': 'Orange',\n",
    "    'Orange-Red': 'Orange',\n",
    "    \n",
    "    'yellowish': 'Yellow',\n",
    "    'Yellowish': 'Yellow',\n",
    "    \n",
    "    'Pale yellow orange': 'Yellow-Orange'\n",
    "}\n",
    "\n",
    "\n",
    "df['color'] = df['color'].replace(color_map)"
   ]
  },
  {
   "cell_type": "code",
   "execution_count": 224,
   "id": "cc9c92ab",
   "metadata": {},
   "outputs": [],
   "source": [
    "stars = df.copy()"
   ]
  },
  {
   "cell_type": "code",
   "execution_count": null,
   "id": "46f03119",
   "metadata": {},
   "outputs": [],
   "source": [
    "from sklearn.model_selection import StratifiedShuffleSplit\n",
    "from sklearn.linear_model import LogisticRegression\n",
    "from sklearn.preprocessing import OrdinalEncoder,OneHotEncoder\n",
    "from sklearn.compose import ColumnTransformer\n",
    "from sklearn.metrics import classification_report\n",
    "\n",
    "target_cats=stars.type.cat.categories.tolist()\n",
    "\n",
    "split=StratifiedShuffleSplit(n_splits=1,test_size=0.50 ,random_state=10)\n",
    "for train_index, test_index in split.split(stars, stars['type']):\n",
    "    stars_train=stars.loc[train_index]\n",
    "    stars_test=stars.loc[test_index]\n",
    "\n",
    "\n",
    "predictor_mask=stars.columns!='type'\n",
    "target_mask=stars.columns=='type'\n",
    "\n",
    "ordinal_cats=['spec_class']\n",
    "nominal_cats=['color']\n",
    "\n",
    "pipeline= ColumnTransformer([\n",
    "    ('ord_cat',OrdinalEncoder(),ordinal_cats),\n",
    "    ('nom_cat',OneHotEncoder(sparse_output=False),nominal_cats)],\n",
    "    remainder='passthrough')\n",
    "\n",
    "X_train=stars_train.loc[:,predictor_mask]\n",
    "y_train=stars_train['type'].cat.codes\n",
    "\n",
    "X_test=stars_test.loc[:,predictor_mask]\n",
    "y_test=stars_test['type']\n",
    "\n",
    "pipeline.fit(stars.loc[:,predictor_mask])\n",
    "\n",
    "X_train_processed=pipeline.transform(X_train)\n",
    "X_test_processed=pipeline.transform(X_test)\n"
   ]
  },
  {
   "cell_type": "code",
   "execution_count": 226,
   "id": "6cb5a7d0",
   "metadata": {},
   "outputs": [
    {
     "data": {
      "image/png": "[encoded data removed]",
      "text/plain": [
       "<Figure size 640x480 with 1 Axes>"
      ]
     },
     "metadata": {},
     "output_type": "display_data"
    },
    {
     "name": "stdout",
     "output_type": "stream",
     "text": [
      "               precision    recall  f1-score   support\n",
      "\n",
      "    Red Dwarf       1.00      1.00      1.00        36\n",
      "  Brown Dwarf       0.95      1.00      0.97        36\n",
      "  White Dwarf       1.00      1.00      1.00        36\n",
      "Main Sequence       0.89      0.94      0.92        36\n",
      "  Super Giant       1.00      0.81      0.89        36\n",
      "  Hyper Giant       0.92      1.00      0.96        36\n",
      "\n",
      "     accuracy                           0.96       216\n",
      "    macro avg       0.96      0.96      0.96       216\n",
      " weighted avg       0.96      0.96      0.96       216\n",
      "\n"
     ]
    }
   ],
   "source": [
    "from sklearn.ensemble import RandomForestClassifier\n",
    "from sklearn.metrics import confusion_matrix, classification_report\n",
    "import matplotlib.pyplot as plt\n",
    "from sklearn.linear_model import LogisticRegression\n",
    "from sklearn.tree import DecisionTreeClassifier\n",
    "\n",
    "# Initialize the Logistic Regression model\n",
    "logreg = DecisionTreeClassifier()\n",
    "\n",
    "# Fit the model on the entire training set\n",
    "logreg.fit(X_train_processed, y_train)\n",
    "\n",
    "# Predict on the test set\n",
    "y_test_predict = logreg.predict(X_test_processed)\n",
    "\n",
    "# Compute the confusion matrix\n",
    "conf_mat = confusion_matrix(y_test.cat.codes, y_test_predict)\n",
    "\n",
    "# Plot the confusion matrix\n",
    "fig, ax = plt.subplots()\n",
    "ax.matshow(conf_mat, cmap='Blues')\n",
    "\n",
    "# Annotate the confusion matrix with the values\n",
    "for (i, j), z in np.ndenumerate(conf_mat):\n",
    "    ax.text(j, i, '{:0.1f}'.format(z), ha='center', va='center',\n",
    "            bbox=dict(boxstyle='round', facecolor='white', edgecolor='0.3'))\n",
    "\n",
    "plt.xlabel('Predicted')\n",
    "plt.ylabel('True')\n",
    "plt.title('Confusion Matrix')\n",
    "plt.show()\n",
    "\n",
    "# Classification report for the test set\n",
    "report = classification_report(y_test.cat.codes, y_test_predict, target_names=stars.type.cat.categories.tolist())\n",
    "print(report)\n"
   ]
  }
 ],
 "metadata": {
  "kernelspec": {
   "display_name": "Python 3",
   "language": "python",
   "name": "python3"
  },
  "language_info": {
   "codemirror_mode": {
    "name": "ipython",
    "version": 3
   },
   "file_extension": ".py",
   "mimetype": "text/x-python",
   "name": "python",
   "nbconvert_exporter": "python",
   "pygments_lexer": "ipython3",
   "version": "3.13.3"
  }
 },
 "nbformat": 4,
 "nbformat_minor": 5
}
