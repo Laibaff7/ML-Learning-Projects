{
 "cells": [
  {
   "cell_type": "code",
   "execution_count": 2,
   "id": "a8dd25e4",
   "metadata": {},
   "outputs": [],
   "source": [
    "import spiceypy.spiceypy as spice"
   ]
  },
  {
   "cell_type": "code",
   "execution_count": 3,
   "id": "254bc0b3",
   "metadata": {},
   "outputs": [],
   "source": [
    "spice.furnsh(\"./kernels/naif0012.tls\")\n",
    "spice.furnsh(\"./kernels/cas00084.tsc\")\n",
    "spice.furnsh(\"./kernels/080221AP_SK_08050_08076.bsp\")\n",
    "spice.furnsh(\"./kernels/080228AP_PE_08050_08076.bsp\")\n",
    "spice.furnsh(\"./kernels/080228AP_SE_08050_08076.bsp\")\n",
    "spice.furnsh(\"./kernels/080306AP_SCPSE_08050_08076.bsp\")\n",
    "spice.furnsh(\"./kernels/04135_04171ra.bc\")\n",
    "spice.furnsh(\"./kernels/cas_v40.tf\")\n",
    "spice.furnsh(\"./kernels/cas_cda_v01.ti\")\n",
    "spice.furnsh(\"./kernels/cpck05Mar2004.tpc\")\n"
   ]
  },
  {
   "cell_type": "code",
   "execution_count": 4,
   "id": "0c49fced",
   "metadata": {},
   "outputs": [
    {
     "name": "stdout",
     "output_type": "stream",
     "text": [
      "Cassini to Enceladus vector (km): [-514050.28278708   -4550.91892448 -574141.19361174]\n",
      "2.5706227191573268\n"
     ]
    }
   ],
   "source": [
    "# Step 2: Convert UTC to Ephemeris Time (ET)\n",
    "utc_time = \"2008-03-12T00:00:00\"\n",
    "et = spice.str2et(utc_time)\n",
    "\n",
    "# Step 3: Get Cassini’s position relative to Enceladus\n",
    "# Outputs position vector and light time\n",
    "position, light_time = spice.spkpos(\n",
    "    targ=\"ENCELADUS\", \n",
    "    et=et, \n",
    "    ref=\"IAU_SATURN\", \n",
    "    abcorr=\"LT+S\", \n",
    "    obs=\"CASSINI\"\n",
    ")\n",
    "\n",
    "print(\"Cassini to Enceladus vector (km):\", position)\n",
    "print(light_time)"
   ]
  },
  {
   "cell_type": "code",
   "execution_count": 8,
   "id": "a3d0c66f",
   "metadata": {},
   "outputs": [
    {
     "name": "stdout",
     "output_type": "stream",
     "text": [
      "TDB Julian Date: 2453168.3146317666\n"
     ]
    }
   ],
   "source": [
    "utc_given=input(\"Enter UTC time: \")\n",
    "\n",
    "et_utc = spice.str2et(utc_given)\n",
    "\n",
    "julian = spice.unitim(et_utc,\"ET\",\"JDTDB\")\n",
    "\n",
    "print(f\"TDB Julian Date: {julian}\")"
   ]
  }
 ],
 "metadata": {
  "kernelspec": {
   "display_name": "Python 3",
   "language": "python",
   "name": "python3"
  },
  "language_info": {
   "codemirror_mode": {
    "name": "ipython",
    "version": 3
   },
   "file_extension": ".py",
   "mimetype": "text/x-python",
   "name": "python",
   "nbconvert_exporter": "python",
   "pygments_lexer": "ipython3",
   "version": "3.13.3"
  }
 },
 "nbformat": 4,
 "nbformat_minor": 5
}
